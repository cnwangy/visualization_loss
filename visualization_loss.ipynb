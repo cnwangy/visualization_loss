{
 "cells": [
  {
   "cell_type": "code",
   "execution_count": 2,
   "metadata": {},
   "outputs": [
    {
     "name": "stderr",
     "output_type": "stream",
     "text": [
      "C:\\Users\\think\\Miniconda2\\envs\\py36\\lib\\site-packages\\ipywidgets\\widgets\\widget.py:281: DeprecationWarning:\n",
      "\n",
      "Widget registration using a string name has been deprecated. Widget registration now uses a plain `@register` decorator.\n",
      "\n"
     ]
    }
   ],
   "source": [
    "from __future__ import print_function\n",
    "import mxnet as mx\n",
    "from mxnet import nd, autograd, gluon\n",
    "import seaborn as sn\n",
    "import pandas as pd\n",
    "%matplotlib inline\n",
    "import numpy as np\n",
    "import matplotlib.pyplot as plt\n",
    "\n",
    "import plotly.graph_objs as go\n",
    "import plotly.offline as py"
   ]
  },
  {
   "cell_type": "code",
   "execution_count": 3,
   "metadata": {},
   "outputs": [],
   "source": [
    "#set seed\n",
    "mx.random.seed(1)\n",
    "# context\n",
    "data_ctx = mx.cpu()\n",
    "model_ctx = mx.cpu()"
   ]
  },
  {
   "cell_type": "code",
   "execution_count": 4,
   "metadata": {},
   "outputs": [
    {
     "data": {
      "text/plain": [
       "<matplotlib.axes._subplots.AxesSubplot at 0x52be259668>"
      ]
     },
     "execution_count": 4,
     "metadata": {},
     "output_type": "execute_result"
    },
    {
     "data": {
      "image/png": "[encoded data removed]",
      "text/plain": [
       "<Figure size 432x288 with 1 Axes>"
      ]
     },
     "metadata": {},
     "output_type": "display_data"
    }
   ],
   "source": [
    "#1d regression\n",
    "num_inputs = 1\n",
    "num_outputs = 1\n",
    "num_examples = 100\n",
    "\n",
    "realw = 5\n",
    "realb = 2\n",
    "#sigmoid function\n",
    "def sigmoid(input):\n",
    "    return 1/(1+mx.nd.exp(-input))\n",
    "\n",
    "#real function, using sigmoid function so that loss function becomes more complicated\n",
    "def real_fn(X):\n",
    "    return sigmoid(realw * X[:, 0] + realb)\n",
    "\n",
    "#generate sample points\n",
    "x_low = -5\n",
    "x_hi = 5\n",
    "X = nd.random_uniform(low=x_low,high=x_hi,shape=(num_examples, num_inputs), ctx=data_ctx)\n",
    "y = real_fn(X)\n",
    "\n",
    "df=pd.DataFrame(np.concatenate((X.asnumpy(),y.asnumpy().reshape(-1,1)),axis=1),columns=['x','y'])\n",
    "df.head()\n",
    "\n",
    "#plot data\n",
    "sn.scatterplot(x=\"x\", y=\"y\", data=df)"
   ]
  },
  {
   "cell_type": "code",
   "execution_count": 8,
   "metadata": {},
   "outputs": [
    {
     "name": "stdout",
     "output_type": "stream",
     "text": [
      "epoch:0,loss:0.012990028558290088\n",
      "epoch:1,loss:7.020198341173128e-05\n",
      "epoch:2,loss:4.383652498826368e-05\n",
      "epoch:3,loss:2.838455728835507e-05\n",
      "epoch:4,loss:1.8854209081025587e-05\n",
      "epoch:5,loss:1.276335042264311e-05\n",
      "epoch:6,loss:8.766113937162685e-06\n",
      "epoch:7,loss:6.089007260699351e-06\n",
      "epoch:8,loss:4.267296422332712e-06\n",
      "epoch:9,loss:3.0120938424877773e-06\n",
      "epoch:10,loss:2.1384715479319562e-06\n",
      "epoch:11,loss:1.5254458211166474e-06\n",
      "epoch:12,loss:1.0924224273304422e-06\n",
      "epoch:13,loss:7.848594368774035e-07\n",
      "epoch:14,loss:5.654093954331052e-07\n",
      "epoch:15,loss:4.082483726930075e-07\n",
      "epoch:16,loss:2.9531730819042354e-07\n",
      "epoch:17,loss:2.1396807821484204e-07\n",
      "epoch:18,loss:1.5524398381788803e-07\n",
      "epoch:19,loss:1.1276349926001755e-07\n",
      "epoch:20,loss:8.199121472983926e-08\n",
      "epoch:21,loss:5.966047217639841e-08\n",
      "epoch:22,loss:4.3438284401276644e-08\n",
      "epoch:23,loss:3.165458030828824e-08\n",
      "epoch:24,loss:2.3077138656669687e-08\n",
      "epoch:25,loss:1.682985384756897e-08\n",
      "epoch:26,loss:1.227828443671287e-08\n",
      "epoch:27,loss:8.961361894229905e-09\n",
      "epoch:28,loss:6.540458959006902e-09\n",
      "epoch:29,loss:4.774697149200672e-09\n",
      "epoch:30,loss:3.487776324348429e-09\n",
      "epoch:31,loss:2.548328215591278e-09\n",
      "epoch:32,loss:1.8625607983837063e-09\n",
      "epoch:33,loss:1.361388791720702e-09\n",
      "epoch:34,loss:9.94938391352599e-10\n",
      "epoch:35,loss:7.272958486367761e-10\n",
      "epoch:36,loss:5.323283383367071e-10\n",
      "epoch:37,loss:3.885256293757832e-10\n",
      "epoch:38,loss:2.8386746379754466e-10\n",
      "epoch:39,loss:2.0768942080042914e-10\n",
      "epoch:40,loss:1.5217315957229305e-10\n",
      "epoch:41,loss:1.1101031107245672e-10\n",
      "epoch:42,loss:8.114129794683303e-11\n",
      "epoch:43,loss:5.909456237121681e-11\n",
      "epoch:44,loss:4.331538646183036e-11\n",
      "epoch:45,loss:3.171539076831832e-11\n",
      "epoch:46,loss:2.3092996832794218e-11\n",
      "epoch:47,loss:1.6920721151188942e-11\n",
      "epoch:48,loss:1.2357715471092394e-11\n",
      "epoch:49,loss:9.036670473937401e-12\n",
      "epoch:50,loss:6.562742056909342e-12\n",
      "epoch:51,loss:4.8542343045484276e-12\n",
      "epoch:52,loss:3.5477019170381465e-12\n",
      "epoch:53,loss:2.6313031472208938e-12\n",
      "epoch:54,loss:1.945056013339721e-12\n",
      "epoch:55,loss:1.4231428747947513e-12\n",
      "epoch:56,loss:1.0409486314830217e-12\n",
      "epoch:57,loss:7.724520548428083e-13\n",
      "epoch:58,loss:5.603119544129162e-13\n",
      "epoch:59,loss:4.256065589066176e-13\n",
      "epoch:60,loss:3.1504600160499445e-13\n",
      "epoch:61,loss:2.4895577810540734e-13\n",
      "epoch:62,loss:1.8177374781521555e-13\n",
      "epoch:63,loss:1.4297450259351214e-13\n",
      "epoch:64,loss:1.1280222566026125e-13\n",
      "epoch:65,loss:9.19657072160981e-14\n",
      "epoch:66,loss:7.390582635171979e-14\n",
      "epoch:67,loss:5.978578139270403e-14\n",
      "epoch:68,loss:4.183871588605297e-14\n",
      "epoch:69,loss:3.460732675346336e-14\n",
      "epoch:70,loss:3.057279594280238e-14\n",
      "epoch:71,loss:2.3739810904735593e-14\n",
      "epoch:72,loss:1.6069855982125487e-14\n",
      "epoch:73,loss:1.2940394564875477e-14\n",
      "epoch:74,loss:8.602260271551533e-15\n",
      "epoch:75,loss:9.074332624968742e-15\n",
      "epoch:76,loss:8.754355587558534e-15\n",
      "epoch:77,loss:6.735228947323899e-15\n",
      "epoch:78,loss:5.867589652616127e-15\n",
      "epoch:79,loss:5.867589652616127e-15\n",
      "epoch:80,loss:5.867589652616127e-15\n",
      "epoch:81,loss:5.867589652616127e-15\n",
      "epoch:82,loss:5.867589652616127e-15\n",
      "epoch:83,loss:5.867589652616127e-15\n",
      "epoch:84,loss:5.867589652616127e-15\n",
      "epoch:85,loss:5.867589652616127e-15\n",
      "epoch:86,loss:5.867589652616127e-15\n",
      "epoch:87,loss:5.867589652616127e-15\n",
      "epoch:88,loss:5.867589652616127e-15\n",
      "epoch:89,loss:5.867589652616127e-15\n",
      "epoch:90,loss:5.867589652616127e-15\n",
      "epoch:91,loss:5.867589652616127e-15\n",
      "epoch:92,loss:5.867589652616127e-15\n",
      "epoch:93,loss:5.867589652616127e-15\n",
      "epoch:94,loss:5.867589652616127e-15\n",
      "epoch:95,loss:5.867589652616127e-15\n",
      "epoch:96,loss:5.867589652616127e-15\n",
      "epoch:97,loss:5.867589652616127e-15\n",
      "epoch:98,loss:5.867589652616127e-15\n",
      "epoch:99,loss:5.867589652616127e-15\n"
     ]
    }
   ],
   "source": [
    "batch_size = 1\n",
    "train_data = gluon.data.DataLoader(gluon.data.ArrayDataset(X, y),\n",
    "                                      batch_size=batch_size, shuffle=False)\n",
    "w = nd.random_normal(shape=(num_inputs, num_outputs), ctx=model_ctx)\n",
    "b = nd.random_normal(shape=num_outputs, ctx=model_ctx)\n",
    "w = nd.array([[-1]])#starting of w\n",
    "b = nd.array([0])#starting of b\n",
    "params = [w, b]\n",
    "for param in params:\n",
    "    param.attach_grad()\n",
    "    \n",
    "def net(X):\n",
    "    return sigmoid(mx.nd.dot(X, w) + b)\n",
    "\n",
    "\n",
    "def square_loss(yhat, y):\n",
    "    return nd.mean((yhat - y) ** 2)\n",
    "\n",
    "def SGD(params, lr):\n",
    "    for param in params:\n",
    "        param[:] = param - lr * param.grad\n",
    "\n",
    "\n",
    "epochs = 100\n",
    "learning_rate = 10\n",
    "num_batches = num_examples/batch_size\n",
    "\n",
    "wbtra = []\n",
    "\n",
    "for e in range(epochs):\n",
    "    cumulative_loss = 0\n",
    "    # inner loop\n",
    "    for i, (data, label) in enumerate(train_data):\n",
    "        data = data.as_in_context(model_ctx)\n",
    "        #print(data.asnumpy())\n",
    "        #print('--')\n",
    "        label = label.as_in_context(model_ctx).reshape((-1, 1))\n",
    "        with autograd.record():\n",
    "            output = net(data)\n",
    "            loss = square_loss(output, label)\n",
    "        loss.backward()\n",
    "        wbtra.append([params[0].asnumpy()[0,0],params[1].asnumpy()[0]])\n",
    "        SGD(params, learning_rate)\n",
    "        cumulative_loss += loss.asscalar()\n",
    "    print('epoch:{},loss:{}'.format(e,cumulative_loss / num_batches))\n",
    "dfwb = pd.DataFrame(wbtra,columns=['w','b'])"
   ]
  },
  {
   "cell_type": "code",
   "execution_count": 9,
   "metadata": {},
   "outputs": [
    {
     "data": {
      "image/png": "[encoded data removed]",
      "text/plain": [
       "<Figure size 432x288 with 1 Axes>"
      ]
     },
     "metadata": {},
     "output_type": "display_data"
    }
   ],
   "source": [
    "f, (fg1) = plt.subplots(1, 1)\n",
    "fg1.set_title('Estimated vs real function')\n",
    "fg1.plot(X.asnumpy(),\n",
    "             net(X).asnumpy(), 'or', label='Estimated')\n",
    "fg1.plot(X.asnumpy(),\n",
    "             real_fn(X).asnumpy(), '*g', label='Real')\n",
    "fg1.legend()\n",
    "\n",
    "plt.show()"
   ]
  },
  {
   "cell_type": "code",
   "execution_count": 10,
   "metadata": {},
   "outputs": [
    {
     "name": "stdout",
     "output_type": "stream",
     "text": [
      "minimal loss:x    5.000000e+00\n",
      "y    2.000000e+00\n",
      "l    4.840824e-16\n",
      "Name: 15070, dtype: float64\n"
     ]
    }
   ],
   "source": [
    "def plotwb(x,y,dfwb,realw,realb):\n",
    "    w=np.mgrid[-5:10:.1,-5:10:.1][0,:,:].reshape(-1,1)\n",
    "    b=np.mgrid[-5:10:.1,-5:10:.1][1,:,:].reshape(-1,1)\n",
    "    temp = []\n",
    "    for ww,bb in zip(w,b):\n",
    "        l = np.mean((1/(1+np.exp(-ww*x-bb))-y)**2)\n",
    "        temp.append(l)\n",
    "    loss = np.array(temp).reshape(-1,1)\n",
    "    \n",
    "    data=pd.DataFrame(np.concatenate((w,b,loss),axis=1),columns=['x','y','l'])\n",
    "    \n",
    "    print('minimal loss:{}'.format(data.loc[data['l'].idxmin(),:]))\n",
    "\n",
    "    # Create trace\n",
    "    trace0 = go.Scatter(\n",
    "        x = data['x'].values,\n",
    "        y = data['y'].values,\n",
    "        mode = 'markers',\n",
    "        marker = dict(\n",
    "            color = data['l'].values,\n",
    "            colorscale='Viridis'\n",
    "        )\n",
    "    )\n",
    "    trace1 = go.Scatter(\n",
    "        x = dfwb['w'].values,\n",
    "        y = dfwb['b'].values,\n",
    "        mode = 'lines',\n",
    "        line = dict(\n",
    "            color = ('rgb(255, 0, 0)')\n",
    "        )\n",
    "    )\n",
    "    trace2 = go.Scatter(\n",
    "        x = [realw],\n",
    "        y = [realb],\n",
    "        mode = 'markers',\n",
    "        marker = dict(\n",
    "            color = ('rgb(255, 0, 0)')\n",
    "        )\n",
    "    )\n",
    "    data = [trace0,trace1,trace2]\n",
    "    py.plot(data)\n",
    "\n",
    "plotwb(X.asnumpy().reshape(-1,1),y.asnumpy().reshape(-1,1),dfwb,realw,realb)"
   ]
  },
  {
   "cell_type": "code",
   "execution_count": 11,
   "metadata": {},
   "outputs": [
    {
     "data": {
      "text/html": [
       "<div>\n",
       "<style scoped>\n",
       "    .dataframe tbody tr th:only-of-type {\n",
       "        vertical-align: middle;\n",
       "    }\n",
       "\n",
       "    .dataframe tbody tr th {\n",
       "        vertical-align: top;\n",
       "    }\n",
       "\n",
       "    .dataframe thead th {\n",
       "        text-align: right;\n",
       "    }\n",
       "</style>\n",
       "<table border=\"1\" class=\"dataframe\">\n",
       "  <thead>\n",
       "    <tr style=\"text-align: right;\">\n",
       "      <th></th>\n",
       "      <th>w</th>\n",
       "      <th>b</th>\n",
       "    </tr>\n",
       "  </thead>\n",
       "  <tbody>\n",
       "    <tr>\n",
       "      <th>9995</th>\n",
       "      <td>4.999993</td>\n",
       "      <td>1.999998</td>\n",
       "    </tr>\n",
       "    <tr>\n",
       "      <th>9996</th>\n",
       "      <td>4.999993</td>\n",
       "      <td>1.999998</td>\n",
       "    </tr>\n",
       "    <tr>\n",
       "      <th>9997</th>\n",
       "      <td>4.999993</td>\n",
       "      <td>1.999998</td>\n",
       "    </tr>\n",
       "    <tr>\n",
       "      <th>9998</th>\n",
       "      <td>4.999993</td>\n",
       "      <td>1.999998</td>\n",
       "    </tr>\n",
       "    <tr>\n",
       "      <th>9999</th>\n",
       "      <td>4.999993</td>\n",
       "      <td>1.999998</td>\n",
       "    </tr>\n",
       "  </tbody>\n",
       "</table>\n",
       "</div>"
      ],
      "text/plain": [
       "             w         b\n",
       "9995  4.999993  1.999998\n",
       "9996  4.999993  1.999998\n",
       "9997  4.999993  1.999998\n",
       "9998  4.999993  1.999998\n",
       "9999  4.999993  1.999998"
      ]
     },
     "execution_count": 11,
     "metadata": {},
     "output_type": "execute_result"
    }
   ],
   "source": [
    "dfwb.tail()"
   ]
  }
 ],
 "metadata": {
  "kernelspec": {
   "display_name": "Python 3",
   "language": "python",
   "name": "python3"
  },
  "language_info": {
   "codemirror_mode": {
    "name": "ipython",
    "version": 3
   },
   "file_extension": ".py",
   "mimetype": "text/x-python",
   "name": "python",
   "nbconvert_exporter": "python",
   "pygments_lexer": "ipython3",
   "version": "3.6.5"
  }
 },
 "nbformat": 4,
 "nbformat_minor": 1
}
